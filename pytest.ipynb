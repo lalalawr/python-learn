{
 "cells": [
  {
   "cell_type": "code",
   "execution_count": 1,
   "id": "b8959921-5ec6-4845-bdf2-9305a80327b7",
   "metadata": {},
   "outputs": [
    {
     "name": "stdout",
     "output_type": "stream",
     "text": [
      "696 μs ± 67.1 μs per loop (mean ± std. dev. of 10 runs, 1,000 loops each)\n"
     ]
    }
   ],
   "source": [
    "%timeit -n 1000 -r 10 [x*x for x in range(10000)]"
   ]
  },
  {
   "cell_type": "code",
   "execution_count": 2,
   "id": "c8a72853-6ce7-4f32-883c-d647e6756d9b",
   "metadata": {},
   "outputs": [
    {
     "name": "stderr",
     "output_type": "stream",
     "text": [
      "UsageError: %%timeit is a cell magic, but the cell body is empty. Did you mean the line magic %timeit (single %)?\n"
     ]
    }
   ],
   "source": [
    "%%timeit -n 1000 -r 10 [x*x for x in range(10000)]"
   ]
  },
  {
   "cell_type": "code",
   "execution_count": 3,
   "id": "1e7b918e-2aef-4791-85e2-ad13d964777d",
   "metadata": {},
   "outputs": [
    {
     "ename": "SyntaxError",
     "evalue": "expected ':' (<unknown>, line 2)",
     "output_type": "error",
     "traceback": [
      "Traceback \u001b[36m(most recent call last)\u001b[39m:\n",
      "  File \u001b[92mG:\\课题组\\03-论文\\08-碳计量-2024.11\\RESPO-main\\RESPO2060\\pycode\\venv\\Lib\\site-packages\\IPython\\core\\interactiveshell.py:3699\u001b[39m in \u001b[95mrun_code\u001b[39m\n    exec(code_obj, self.user_global_ns, self.user_ns)\n",
      "  Cell \u001b[92mIn[3]\u001b[39m\u001b[92m, line 1\u001b[39m\n    get_ipython().run_cell_magic('timeit', '-n 1000 -r 10', 'ret=[]\\nfor x in range(10000)\\n    ret.append(x*x)\\n\\n')\n",
      "  File \u001b[92mG:\\课题组\\03-论文\\08-碳计量-2024.11\\RESPO-main\\RESPO2060\\pycode\\venv\\Lib\\site-packages\\IPython\\core\\interactiveshell.py:2565\u001b[39m in \u001b[95mrun_cell_magic\u001b[39m\n    result = fn(*args, **kwargs)\n",
      "  File \u001b[92mG:\\课题组\\03-论文\\08-碳计量-2024.11\\RESPO-main\\RESPO2060\\pycode\\venv\\Lib\\site-packages\\IPython\\core\\magics\\execution.py:1172\u001b[39m in \u001b[95mtimeit\u001b[39m\n    ast_stmt = self.shell.compile.ast_parse(transform(cell))\n",
      "\u001b[36m  \u001b[39m\u001b[36mFile \u001b[39m\u001b[32mG:\\课题组\\03-论文\\08-碳计量-2024.11\\RESPO-main\\RESPO2060\\pycode\\venv\\Lib\\site-packages\\IPython\\core\\compilerop.py:86\u001b[39m\u001b[36m in \u001b[39m\u001b[35mast_parse\u001b[39m\n\u001b[31m    \u001b[39m\u001b[31mreturn compile(source, filename, symbol, self.flags | PyCF_ONLY_AST, 1)\u001b[39m\n",
      "  \u001b[36mFile \u001b[39m\u001b[32m<unknown>:2\u001b[39m\n\u001b[31m    \u001b[39m\u001b[31mfor x in range(10000)\u001b[39m\n                         ^\n\u001b[31mSyntaxError\u001b[39m\u001b[31m:\u001b[39m expected ':'\n"
     ]
    }
   ],
   "source": [
    "%%timeit -n 1000 -r 10 \n",
    "ret=[]\n",
    "for x in range(10000)\n",
    "    ret.append(x*x)\n",
    "    "
   ]
  },
  {
   "cell_type": "code",
   "execution_count": 1,
   "id": "b5e0b9ef-d228-44d6-a8d4-9e6e19272ff7",
   "metadata": {},
   "outputs": [
    {
     "ename": "SyntaxError",
     "evalue": "invalid character '：' (U+FF1A) (<unknown>, line 2)",
     "output_type": "error",
     "traceback": [
      "Traceback \u001b[36m(most recent call last)\u001b[39m:\n",
      "  File \u001b[92mG:\\课题组\\03-论文\\08-碳计量-2024.11\\RESPO-main\\RESPO2060\\pycode\\venv\\Lib\\site-packages\\IPython\\core\\interactiveshell.py:3699\u001b[39m in \u001b[95mrun_code\u001b[39m\n    exec(code_obj, self.user_global_ns, self.user_ns)\n",
      "  Cell \u001b[92mIn[1]\u001b[39m\u001b[92m, line 1\u001b[39m\n    get_ipython().run_cell_magic('timeit', '-n 1000 -r 10', 'ret=[]\\nfor x in range(10000)：\\n    ret.append(x*x)\\n')\n",
      "  File \u001b[92mG:\\课题组\\03-论文\\08-碳计量-2024.11\\RESPO-main\\RESPO2060\\pycode\\venv\\Lib\\site-packages\\IPython\\core\\interactiveshell.py:2565\u001b[39m in \u001b[95mrun_cell_magic\u001b[39m\n    result = fn(*args, **kwargs)\n",
      "  File \u001b[92mG:\\课题组\\03-论文\\08-碳计量-2024.11\\RESPO-main\\RESPO2060\\pycode\\venv\\Lib\\site-packages\\IPython\\core\\magics\\execution.py:1172\u001b[39m in \u001b[95mtimeit\u001b[39m\n    ast_stmt = self.shell.compile.ast_parse(transform(cell))\n",
      "\u001b[36m  \u001b[39m\u001b[36mFile \u001b[39m\u001b[32mG:\\课题组\\03-论文\\08-碳计量-2024.11\\RESPO-main\\RESPO2060\\pycode\\venv\\Lib\\site-packages\\IPython\\core\\compilerop.py:86\u001b[39m\u001b[36m in \u001b[39m\u001b[35mast_parse\u001b[39m\n\u001b[31m    \u001b[39m\u001b[31mreturn compile(source, filename, symbol, self.flags | PyCF_ONLY_AST, 1)\u001b[39m\n",
      "  \u001b[36mFile \u001b[39m\u001b[32m<unknown>:2\u001b[39m\n\u001b[31m    \u001b[39m\u001b[31mfor x in range(10000)：\u001b[39m\n                         ^\n\u001b[31mSyntaxError\u001b[39m\u001b[31m:\u001b[39m invalid character '：' (U+FF1A)\n"
     ]
    }
   ],
   "source": [
    "%%timeit -n 1000 -r 10 \n",
    "ret=[]\n",
    "for x in range(10000)：\n",
    "    ret.append(x*x)"
   ]
  },
  {
   "cell_type": "code",
   "execution_count": 2,
   "id": "3e11e172-dd9f-4fe9-90a2-d4ba95a4a814",
   "metadata": {},
   "outputs": [
    {
     "name": "stdout",
     "output_type": "stream",
     "text": [
      "883 μs ± 70.5 μs per loop (mean ± std. dev. of 10 runs, 1,000 loops each)\n"
     ]
    }
   ],
   "source": [
    "%%timeit -n 1000 -r 10 \n",
    "ret=[]\n",
    "for x in range(10000):\n",
    "    ret.append(x*x)"
   ]
  },
  {
   "cell_type": "code",
   "execution_count": 3,
   "id": "f934a9ad-5f70-4d7a-9fa5-0c5e58b9b3e7",
   "metadata": {},
   "outputs": [
    {
     "name": "stdout",
     "output_type": "stream",
     "text": [
      "Package                   Version\n",
      "------------------------- --------------\n",
      "anyio                     4.9.0\n",
      "argon2-cffi               25.1.0\n",
      "argon2-cffi-bindings      21.2.0\n",
      "arrow                     1.3.0\n",
      "asttokens                 3.0.0\n",
      "async-lru                 2.0.5\n",
      "attrs                     25.3.0\n",
      "babel                     2.17.0\n",
      "beautifulsoup4            4.13.4\n",
      "bleach                    6.2.0\n",
      "certifi                   2025.7.9\n",
      "cffi                      1.17.1\n",
      "charset-normalizer        3.4.2\n",
      "colorama                  0.4.6\n",
      "comm                      0.2.2\n",
      "contourpy                 1.3.2\n",
      "cycler                    0.12.1\n",
      "debugpy                   1.8.14\n",
      "decorator                 5.2.1\n",
      "defusedxml                0.7.1\n",
      "executing                 2.2.0\n",
      "fastjsonschema            2.21.1\n",
      "fonttools                 4.58.5\n",
      "fqdn                      1.5.1\n",
      "gurobipy                  12.0.2\n",
      "h11                       0.16.0\n",
      "httpcore                  1.0.9\n",
      "httpx                     0.28.1\n",
      "idna                      3.10\n",
      "ipykernel                 6.29.5\n",
      "ipython                   9.4.0\n",
      "ipython_pygments_lexers   1.1.1\n",
      "ipywidgets                8.1.7\n",
      "isoduration               20.11.0\n",
      "jedi                      0.19.2\n",
      "Jinja2                    3.1.6\n",
      "json5                     0.12.0\n",
      "jsonpointer               3.0.0\n",
      "jsonschema                4.24.0\n",
      "jsonschema-specifications 2025.4.1\n",
      "jupyter                   1.1.1\n",
      "jupyter_client            8.6.3\n",
      "jupyter-console           6.6.3\n",
      "jupyter_core              5.8.1\n",
      "jupyter-events            0.12.0\n",
      "jupyter-lsp               2.2.5\n",
      "jupyter_server            2.16.0\n",
      "jupyter_server_terminals  0.5.3\n",
      "jupyterlab                4.4.4\n",
      "jupyterlab_pygments       0.3.0\n",
      "jupyterlab_server         2.27.3\n",
      "jupyterlab_widgets        3.0.15\n",
      "kiwisolver                1.4.8\n",
      "MarkupSafe                3.0.2\n",
      "matplotlib                3.10.3\n",
      "matplotlib-inline         0.1.7\n",
      "mistune                   3.1.3\n",
      "nbclient                  0.10.2\n",
      "nbconvert                 7.16.6\n",
      "nbformat                  5.10.4\n",
      "nest-asyncio              1.6.0\n",
      "notebook                  7.4.4\n",
      "notebook_shim             0.2.4\n",
      "numpy                     2.3.1\n",
      "overrides                 7.7.0\n",
      "packaging                 25.0\n",
      "pandocfilters             1.5.1\n",
      "parso                     0.8.4\n",
      "pathlib                   1.0.1\n",
      "pillow                    11.3.0\n",
      "pip                       25.1.1\n",
      "platformdirs              4.3.8\n",
      "prometheus_client         0.22.1\n",
      "prompt_toolkit            3.0.51\n",
      "psutil                    7.0.0\n",
      "pure_eval                 0.2.3\n",
      "pycparser                 2.22\n",
      "Pygments                  2.19.2\n",
      "pyparsing                 3.2.3\n",
      "python-dateutil           2.9.0.post0\n",
      "python-json-logger        3.3.0\n",
      "pywin32                   310\n",
      "pywinpty                  2.0.15\n",
      "PyYAML                    6.0.2\n",
      "pyzmq                     27.0.0\n",
      "referencing               0.36.2\n",
      "requests                  2.32.4\n",
      "rfc3339-validator         0.1.4\n",
      "rfc3986-validator         0.1.1\n",
      "rpds-py                   0.26.0\n",
      "Send2Trash                1.8.3\n",
      "setuptools                65.5.1\n",
      "six                       1.17.0\n",
      "sniffio                   1.3.1\n",
      "soupsieve                 2.7\n",
      "stack-data                0.6.3\n",
      "terminado                 0.18.1\n",
      "tinycss2                  1.4.0\n",
      "tornado                   6.5.1\n",
      "traitlets                 5.14.3\n",
      "types-python-dateutil     2.9.0.20250708\n",
      "typing_extensions         4.14.1\n",
      "uri-template              1.3.0\n",
      "urllib3                   2.5.0\n",
      "wcwidth                   0.2.13\n",
      "webcolors                 24.11.1\n",
      "webencodings              0.5.1\n",
      "websocket-client          1.8.0\n",
      "wheel                     0.38.4\n",
      "widgetsnbextension        4.0.14\n"
     ]
    }
   ],
   "source": [
    "!pip list\n"
   ]
  },
  {
   "cell_type": "code",
   "execution_count": null,
   "id": "bf1cbd69-fda4-48cc-aaec-601e2503d2c5",
   "metadata": {},
   "outputs": [],
   "source": []
  }
 ],
 "metadata": {
  "kernelspec": {
   "display_name": "Python 3 (ipykernel)",
   "language": "python",
   "name": "python3"
  },
  "language_info": {
   "codemirror_mode": {
    "name": "ipython",
    "version": 3
   },
   "file_extension": ".py",
   "mimetype": "text/x-python",
   "name": "python",
   "nbconvert_exporter": "python",
   "pygments_lexer": "ipython3",
   "version": "3.11.5"
  }
 },
 "nbformat": 4,
 "nbformat_minor": 5
}
